{
 "cells": [
  {
   "cell_type": "code",
   "execution_count": null,
   "source": [
    "add = lambda x, y : x + y\n",
    "print(add(3,5))"
   ],
   "outputs": [],
   "metadata": {}
  },
  {
   "cell_type": "code",
   "execution_count": 3,
   "source": [
    "square = lambda x: x**2\n",
    "print(square(5))"
   ],
   "outputs": [
    {
     "output_type": "stream",
     "name": "stdout",
     "text": [
      "25\n"
     ]
    }
   ],
   "metadata": {}
  },
  {
   "cell_type": "code",
   "execution_count": 6,
   "source": [
    "lst = [['mamad',12],['ali',20],['reza',8],['amir',13]]\n",
    "lst.sort(key = lambda item : item[0])\n",
    "print(lst)"
   ],
   "outputs": [
    {
     "output_type": "stream",
     "name": "stdout",
     "text": [
      "[['ali', 20], ['amir', 13], ['mamad', 12], ['reza', 8]]\n"
     ]
    }
   ],
   "metadata": {}
  },
  {
   "cell_type": "code",
   "execution_count": 7,
   "source": [
    "lst = [['mamad',12],['ali',20],['reza',8],['amir',13]]\n",
    "lst.sort(key = lambda item : item[1])\n",
    "print(lst)"
   ],
   "outputs": [
    {
     "output_type": "stream",
     "name": "stdout",
     "text": [
      "[['reza', 8], ['mamad', 12], ['amir', 13], ['ali', 20]]\n"
     ]
    }
   ],
   "metadata": {}
  },
  {
   "cell_type": "code",
   "execution_count": 9,
   "source": [
    "lst = [{'name':'mamad','mark':12},{'name':'ali','mark':20},{'name':'reza','mark':8},{'name':'amir','mark':13}]\n",
    "lst.sort(key = lambda item : item['name'])\n",
    "print(lst)"
   ],
   "outputs": [
    {
     "output_type": "stream",
     "name": "stdout",
     "text": [
      "[{'name': 'ali', 'mark': 20}, {'name': 'amir', 'mark': 13}, {'name': 'mamad', 'mark': 12}, {'name': 'reza', 'mark': 8}]\n"
     ]
    }
   ],
   "metadata": {}
  },
  {
   "cell_type": "code",
   "execution_count": 10,
   "source": [
    "lst = [{'name':'mamad','mark':12},{'name':'ali','mark':20},{'name':'reza','mark':8},{'name':'amir','mark':13}]\n",
    "lst.sort(key = lambda item : item['mark'])\n",
    "print(lst)"
   ],
   "outputs": [
    {
     "output_type": "stream",
     "name": "stdout",
     "text": [
      "[{'name': 'reza', 'mark': 8}, {'name': 'mamad', 'mark': 12}, {'name': 'amir', 'mark': 13}, {'name': 'ali', 'mark': 20}]\n"
     ]
    }
   ],
   "metadata": {}
  },
  {
   "cell_type": "code",
   "execution_count": 12,
   "source": [
    "lst1 = [1,2,3,4,5,6]\n",
    "lst2 = list(filter(lambda x : x % 2 == 0,lst1))\n",
    "print(lst2)"
   ],
   "outputs": [
    {
     "output_type": "stream",
     "name": "stdout",
     "text": [
      "[2, 4, 6]\n"
     ]
    }
   ],
   "metadata": {}
  },
  {
   "cell_type": "code",
   "execution_count": 14,
   "source": [
    "odds = lambda x : x % 2 != 0\n",
    "lst1 = [1,2,3,4,5,6]\n",
    "lst2 = list(filter(odds,lst1))\n",
    "print(lst2)"
   ],
   "outputs": [
    {
     "output_type": "stream",
     "name": "stdout",
     "text": [
      "[1, 3, 5]\n"
     ]
    }
   ],
   "metadata": {}
  },
  {
   "cell_type": "code",
   "execution_count": 15,
   "source": [
    "lst1 = [1,2,3,4,5,6]\n",
    "lst1 = list(map(lambda x : x ** 2 ,lst1))\n",
    "print(lst1)"
   ],
   "outputs": [
    {
     "output_type": "stream",
     "name": "stdout",
     "text": [
      "[1, 4, 9, 16, 25, 36]\n"
     ]
    }
   ],
   "metadata": {}
  }
 ],
 "metadata": {
  "orig_nbformat": 4,
  "language_info": {
   "name": "python",
   "version": "3.8.10",
   "mimetype": "text/x-python",
   "codemirror_mode": {
    "name": "ipython",
    "version": 3
   },
   "pygments_lexer": "ipython3",
   "nbconvert_exporter": "python",
   "file_extension": ".py"
  },
  "kernelspec": {
   "name": "python3",
   "display_name": "Python 3.8.10 64-bit"
  },
  "interpreter": {
   "hash": "916dbcbb3f70747c44a77c7bcd40155683ae19c65e1c03b4aa3499c5328201f1"
  }
 },
 "nbformat": 4,
 "nbformat_minor": 2
}